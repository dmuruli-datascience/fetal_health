{
 "cells": [
  {
   "attachments": {},
   "cell_type": "markdown",
   "metadata": {},
   "source": [
    "Fetal Health Classification"
   ]
  },
  {
   "attachments": {},
   "cell_type": "markdown",
   "metadata": {},
   "source": [
    "Table of Contents"
   ]
  },
  {
   "attachments": {},
   "cell_type": "markdown",
   "metadata": {},
   "source": [
    "**Table of contents**<a id='toc0_'></a>    \n",
    "- [Introduction](#toc1_)    \n",
    "- [Requirements](#toc2_)  \n",
    "- [Data/Feature Preperation](#toc3_)  \n",
    "- [Modeling & Classification Report](#toc4_)\n",
    "\t/vscode-jupyter-toc-config -->\n",
    "<!-- THIS CELL WILL BE REPLACED ON TOC UPDATE. DO NOT WRITE YOUR TEXT IN THIS CELL -->"
   ]
  },
  {
   "attachments": {},
   "cell_type": "markdown",
   "metadata": {},
   "source": [
    "# <a id='toc1_'></a>[Introduction](#toc0_)\n",
    "The goal is build a classification model for fetal health in order to prevent child and maternal mortality. Fetal Cardiotocograms are taken when the fetus is closer to term.\n",
    "The equipment itself works by sending ultrasound pulses and reading its response, thus shedding light on fetal heart rate (FHR), fetal movements, uterine contractions and more.\n",
    "The cardiotocograms are then scored by expert gynecologists, and given a score of Normal (1), Suspect (2), Pathalogical (3).\\\n",
    "Data Source https://www.kaggle.com/datasets/andrewmvd/fetal-health-classification"
   ]
  },
  {
   "attachments": {},
   "cell_type": "markdown",
   "metadata": {},
   "source": [
    "\n",
    "# <a id='toc2_'></a>[Requirements](#toc1_)"
   ]
  },
  {
   "cell_type": "code",
   "execution_count": 329,
   "metadata": {},
   "outputs": [],
   "source": [
    "import pandas as pd\n",
    "import numpy as np\n",
    "\n",
    "\n",
    "%matplotlib inline\n",
    "import matplotlib.pyplot as plt\n",
    "\n",
    "\n",
    "from scipy import stats\n",
    "from scipy.stats import norm\n",
    "\n",
    "from sklearn.preprocessing import MinMaxScaler\n",
    "\n",
    "from sklearn.linear_model import LogisticRegression\n",
    "from sklearn.svm import SVC\n",
    "from sklearn.ensemble import RandomForestClassifier\n",
    "from sklearn.naive_bayes import GaussianNB\n",
    "from sklearn.ensemble import AdaBoostClassifier\n",
    "from sklearn.model_selection import train_test_split\n",
    "from sklearn.pipeline import make_pipeline\n",
    "from sklearn.metrics import confusion_matrix\n",
    "from sklearn.metrics import ConfusionMatrixDisplay, accuracy_score\n",
    "from imblearn.over_sampling import SMOTE\n",
    "from collections import Counter"
   ]
  },
  {
   "cell_type": "code",
   "execution_count": 330,
   "metadata": {},
   "outputs": [
    {
     "name": "stdout",
     "output_type": "stream",
     "text": [
      "<class 'pandas.core.frame.DataFrame'>\n",
      "RangeIndex: 2126 entries, 0 to 2125\n",
      "Data columns (total 22 columns):\n",
      " #   Column                                                  Non-Null Count  Dtype  \n",
      "---  ------                                                  --------------  -----  \n",
      " 0   baseline value                                          2126 non-null   float64\n",
      " 1   accelerations                                           2126 non-null   float64\n",
      " 2   fetal_movement                                          2126 non-null   float64\n",
      " 3   uterine_contractions                                    2126 non-null   float64\n",
      " 4   light_decelerations                                     2126 non-null   float64\n",
      " 5   severe_decelerations                                    2126 non-null   float64\n",
      " 6   prolongued_decelerations                                2126 non-null   float64\n",
      " 7   abnormal_short_term_variability                         2126 non-null   float64\n",
      " 8   mean_value_of_short_term_variability                    2126 non-null   float64\n",
      " 9   percentage_of_time_with_abnormal_long_term_variability  2126 non-null   float64\n",
      " 10  mean_value_of_long_term_variability                     2126 non-null   float64\n",
      " 11  histogram_width                                         2126 non-null   float64\n",
      " 12  histogram_min                                           2126 non-null   float64\n",
      " 13  histogram_max                                           2126 non-null   float64\n",
      " 14  histogram_number_of_peaks                               2126 non-null   float64\n",
      " 15  histogram_number_of_zeroes                              2126 non-null   float64\n",
      " 16  histogram_mode                                          2126 non-null   float64\n",
      " 17  histogram_mean                                          2126 non-null   float64\n",
      " 18  histogram_median                                        2126 non-null   float64\n",
      " 19  histogram_variance                                      2126 non-null   float64\n",
      " 20  histogram_tendency                                      2126 non-null   float64\n",
      " 21  fetal_health                                            2126 non-null   float64\n",
      "dtypes: float64(22)\n",
      "memory usage: 365.5 KB\n"
     ]
    }
   ],
   "source": [
    "fetal_health_data = pd.read_csv('fetal_health.csv')\n",
    "fetal_health_data.info()"
   ]
  },
  {
   "cell_type": "code",
   "execution_count": 331,
   "metadata": {},
   "outputs": [
    {
     "data": {
      "text/plain": [
       "(2126, 22)"
      ]
     },
     "execution_count": 331,
     "metadata": {},
     "output_type": "execute_result"
    }
   ],
   "source": [
    "fetal_health_data.shape"
   ]
  },
  {
   "cell_type": "code",
   "execution_count": 332,
   "metadata": {},
   "outputs": [
    {
     "data": {
      "text/plain": [
       "baseline value                                            0\n",
       "accelerations                                             0\n",
       "fetal_movement                                            0\n",
       "uterine_contractions                                      0\n",
       "light_decelerations                                       0\n",
       "severe_decelerations                                      0\n",
       "prolongued_decelerations                                  0\n",
       "abnormal_short_term_variability                           0\n",
       "mean_value_of_short_term_variability                      0\n",
       "percentage_of_time_with_abnormal_long_term_variability    0\n",
       "mean_value_of_long_term_variability                       0\n",
       "histogram_width                                           0\n",
       "histogram_min                                             0\n",
       "histogram_max                                             0\n",
       "histogram_number_of_peaks                                 0\n",
       "histogram_number_of_zeroes                                0\n",
       "histogram_mode                                            0\n",
       "histogram_mean                                            0\n",
       "histogram_median                                          0\n",
       "histogram_variance                                        0\n",
       "histogram_tendency                                        0\n",
       "fetal_health                                              0\n",
       "dtype: int64"
      ]
     },
     "execution_count": 332,
     "metadata": {},
     "output_type": "execute_result"
    }
   ],
   "source": [
    "\n",
    "fetal_health_data.isna().sum()"
   ]
  },
  {
   "cell_type": "code",
   "execution_count": 333,
   "metadata": {},
   "outputs": [
    {
     "data": {
      "text/plain": [
       "1.0    1655\n",
       "2.0     295\n",
       "3.0     176\n",
       "Name: fetal_health, dtype: int64"
      ]
     },
     "execution_count": 333,
     "metadata": {},
     "output_type": "execute_result"
    }
   ],
   "source": [
    "fetal_health_data['fetal_health'].value_counts()"
   ]
  },
  {
   "cell_type": "code",
   "execution_count": 334,
   "metadata": {},
   "outputs": [
    {
     "name": "stdout",
     "output_type": "stream",
     "text": [
      "Feature:  baseline value\n",
      "133.0    136\n",
      "130.0    111\n",
      "122.0    109\n",
      "138.0    103\n",
      "125.0     91\n",
      "128.0     85\n",
      "120.0     78\n",
      "142.0     77\n",
      "144.0     77\n",
      "132.0     76\n",
      "136.0     72\n",
      "140.0     70\n",
      "134.0     67\n",
      "135.0     65\n",
      "146.0     62\n",
      "127.0     60\n",
      "137.0     59\n",
      "129.0     57\n",
      "131.0     56\n",
      "143.0     56\n",
      "123.0     56\n",
      "148.0     52\n",
      "121.0     44\n",
      "139.0     39\n",
      "141.0     39\n",
      "126.0     38\n",
      "145.0     37\n",
      "115.0     28\n",
      "150.0     26\n",
      "110.0     21\n",
      "149.0     18\n",
      "119.0     17\n",
      "152.0     17\n",
      "112.0     16\n",
      "147.0     14\n",
      "151.0     14\n",
      "159.0     12\n",
      "114.0     11\n",
      "158.0     10\n",
      "124.0     10\n",
      "118.0      9\n",
      "154.0      8\n",
      "106.0      7\n",
      "116.0      5\n",
      "157.0      4\n",
      "156.0      4\n",
      "117.0      2\n",
      "160.0      1\n",
      "Name: baseline value, dtype: int64\n",
      "Feature:  accelerations\n",
      "0.000    894\n",
      "0.003    161\n",
      "0.002    160\n",
      "0.001    143\n",
      "0.004    117\n",
      "0.006    112\n",
      "0.005    110\n",
      "0.008    103\n",
      "0.007     91\n",
      "0.009     60\n",
      "0.010     50\n",
      "0.011     36\n",
      "0.012     24\n",
      "0.013     22\n",
      "0.014     20\n",
      "0.015      9\n",
      "0.016      7\n",
      "0.017      4\n",
      "0.018      2\n",
      "0.019      1\n",
      "Name: accelerations, dtype: int64\n",
      "Feature:  fetal_movement\n",
      "0.000    1311\n",
      "0.001     164\n",
      "0.002     112\n",
      "0.003      88\n",
      "0.004      49\n",
      "         ... \n",
      "0.079       1\n",
      "0.109       1\n",
      "0.103       1\n",
      "0.031       1\n",
      "0.099       1\n",
      "Name: fetal_movement, Length: 102, dtype: int64\n",
      "Feature:  uterine_contractions\n",
      "0.000    332\n",
      "0.005    290\n",
      "0.004    244\n",
      "0.006    231\n",
      "0.007    216\n",
      "0.003    212\n",
      "0.008    160\n",
      "0.002    160\n",
      "0.001    118\n",
      "0.009     82\n",
      "0.010     49\n",
      "0.011     16\n",
      "0.012     11\n",
      "0.013      2\n",
      "0.014      2\n",
      "0.015      1\n",
      "Name: uterine_contractions, dtype: int64\n",
      "Feature:  light_decelerations\n",
      "0.000    1231\n",
      "0.001     163\n",
      "0.003     118\n",
      "0.002     115\n",
      "0.004     114\n",
      "0.005     107\n",
      "0.006      74\n",
      "0.008      55\n",
      "0.007      54\n",
      "0.009      37\n",
      "0.010      15\n",
      "0.011      13\n",
      "0.012      12\n",
      "0.013       8\n",
      "0.014       7\n",
      "0.015       3\n",
      "Name: light_decelerations, dtype: int64\n",
      "Feature:  severe_decelerations\n",
      "0.000    2119\n",
      "0.001       7\n",
      "Name: severe_decelerations, dtype: int64\n",
      "Feature:  prolongued_decelerations\n",
      "0.000    1948\n",
      "0.002      72\n",
      "0.001      70\n",
      "0.003      24\n",
      "0.004       9\n",
      "0.005       3\n",
      "Name: prolongued_decelerations, dtype: int64\n",
      "Feature:  abnormal_short_term_variability\n",
      "60.0    62\n",
      "58.0    61\n",
      "65.0    60\n",
      "63.0    58\n",
      "64.0    58\n",
      "        ..\n",
      "14.0     4\n",
      "86.0     4\n",
      "12.0     2\n",
      "82.0     2\n",
      "87.0     1\n",
      "Name: abnormal_short_term_variability, Length: 75, dtype: int64\n",
      "Feature:  mean_value_of_short_term_variability\n",
      "0.8    125\n",
      "1.3    121\n",
      "0.5    121\n",
      "0.4    120\n",
      "0.7    117\n",
      "0.9    114\n",
      "0.6    113\n",
      "1.2    107\n",
      "1.5    100\n",
      "1.0     99\n",
      "1.1     97\n",
      "1.4     95\n",
      "0.3     84\n",
      "1.7     78\n",
      "1.6     76\n",
      "1.9     62\n",
      "1.8     51\n",
      "0.2     47\n",
      "2.2     47\n",
      "2.1     44\n",
      "2.0     38\n",
      "2.3     27\n",
      "2.4     27\n",
      "2.5     26\n",
      "2.7     25\n",
      "2.8     22\n",
      "2.6     21\n",
      "3.0     16\n",
      "2.9     13\n",
      "3.2     13\n",
      "3.4     12\n",
      "3.1     10\n",
      "3.3      7\n",
      "3.8      6\n",
      "3.6      4\n",
      "3.5      3\n",
      "4.9      3\n",
      "3.7      3\n",
      "4.1      3\n",
      "4.2      3\n",
      "5.0      2\n",
      "3.9      2\n",
      "6.3      2\n",
      "4.0      2\n",
      "4.4      2\n",
      "4.5      2\n",
      "5.4      2\n",
      "4.3      2\n",
      "4.8      2\n",
      "7.0      1\n",
      "5.3      1\n",
      "4.7      1\n",
      "6.0      1\n",
      "5.7      1\n",
      "5.2      1\n",
      "5.9      1\n",
      "6.9      1\n",
      "Name: mean_value_of_short_term_variability, dtype: int64\n",
      "Feature:  percentage_of_time_with_abnormal_long_term_variability\n",
      "0.0     1240\n",
      "1.0       52\n",
      "2.0       45\n",
      "5.0       43\n",
      "4.0       40\n",
      "        ... \n",
      "85.0       1\n",
      "79.0       1\n",
      "86.0       1\n",
      "88.0       1\n",
      "63.0       1\n",
      "Name: percentage_of_time_with_abnormal_long_term_variability, Length: 87, dtype: int64\n",
      "Feature:  mean_value_of_long_term_variability\n",
      "0.0     137\n",
      "7.1      29\n",
      "6.7      29\n",
      "6.5      25\n",
      "5.2      25\n",
      "       ... \n",
      "24.1      1\n",
      "17.5      1\n",
      "22.5      1\n",
      "27.0      1\n",
      "0.8       1\n",
      "Name: mean_value_of_long_term_variability, Length: 249, dtype: int64\n",
      "Feature:  histogram_width\n",
      "39.0     42\n",
      "102.0    35\n",
      "27.0     30\n",
      "31.0     29\n",
      "90.0     28\n",
      "         ..\n",
      "6.0       1\n",
      "162.0     1\n",
      "131.0     1\n",
      "146.0     1\n",
      "180.0     1\n",
      "Name: histogram_width, Length: 154, dtype: int64\n",
      "Feature:  histogram_min\n",
      "50.0     77\n",
      "52.0     50\n",
      "71.0     49\n",
      "120.0    48\n",
      "60.0     45\n",
      "         ..\n",
      "155.0     2\n",
      "149.0     2\n",
      "158.0     1\n",
      "159.0     1\n",
      "156.0     1\n",
      "Name: histogram_min, Length: 109, dtype: int64\n",
      "Feature:  histogram_max\n",
      "157.0    71\n",
      "171.0    66\n",
      "158.0    62\n",
      "156.0    60\n",
      "159.0    58\n",
      "         ..\n",
      "123.0     2\n",
      "122.0     2\n",
      "134.0     2\n",
      "213.0     1\n",
      "205.0     1\n",
      "Name: histogram_max, Length: 86, dtype: int64\n",
      "Feature:  histogram_number_of_peaks\n",
      "1.0     357\n",
      "2.0     331\n",
      "3.0     269\n",
      "4.0     258\n",
      "5.0     210\n",
      "6.0     158\n",
      "7.0     145\n",
      "0.0     107\n",
      "8.0     106\n",
      "9.0      67\n",
      "10.0     49\n",
      "11.0     28\n",
      "12.0     22\n",
      "13.0     10\n",
      "14.0      5\n",
      "16.0      2\n",
      "15.0      1\n",
      "18.0      1\n",
      "Name: histogram_number_of_peaks, dtype: int64\n",
      "Feature:  histogram_number_of_zeroes\n",
      "0.0     1624\n",
      "1.0      366\n",
      "2.0      108\n",
      "3.0       21\n",
      "4.0        2\n",
      "5.0        2\n",
      "10.0       1\n",
      "8.0        1\n",
      "7.0        1\n",
      "Name: histogram_number_of_zeroes, dtype: int64\n",
      "Feature:  histogram_mode\n",
      "133.0    140\n",
      "136.0     89\n",
      "150.0     89\n",
      "142.0     87\n",
      "148.0     79\n",
      "        ... \n",
      "97.0       1\n",
      "187.0      1\n",
      "76.0       1\n",
      "71.0       1\n",
      "69.0       1\n",
      "Name: histogram_mode, Length: 88, dtype: int64\n",
      "Feature:  histogram_mean\n",
      "143.0    65\n",
      "144.0    64\n",
      "135.0    63\n",
      "141.0    61\n",
      "140.0    60\n",
      "         ..\n",
      "178.0     1\n",
      "169.0     1\n",
      "165.0     1\n",
      "168.0     1\n",
      "73.0      1\n",
      "Name: histogram_mean, Length: 103, dtype: int64\n",
      "Feature:  histogram_median\n",
      "146.0    69\n",
      "137.0    68\n",
      "142.0    68\n",
      "145.0    67\n",
      "147.0    65\n",
      "         ..\n",
      "178.0     1\n",
      "186.0     1\n",
      "183.0     1\n",
      "180.0     1\n",
      "104.0     1\n",
      "Name: histogram_median, Length: 95, dtype: int64\n",
      "Feature:  histogram_variance\n",
      "1.0      248\n",
      "0.0      187\n",
      "2.0      166\n",
      "3.0      161\n",
      "4.0      108\n",
      "        ... \n",
      "127.0      1\n",
      "126.0      1\n",
      "134.0      1\n",
      "144.0      1\n",
      "147.0      1\n",
      "Name: histogram_variance, Length: 133, dtype: int64\n",
      "Feature:  histogram_tendency\n",
      " 0.0    1115\n",
      " 1.0     846\n",
      "-1.0     165\n",
      "Name: histogram_tendency, dtype: int64\n",
      "Feature:  fetal_health\n",
      "1.0    1655\n",
      "2.0     295\n",
      "3.0     176\n",
      "Name: fetal_health, dtype: int64\n"
     ]
    }
   ],
   "source": [
    "for c in fetal_health_data.columns:\n",
    "    print(\"Feature: \", c)\n",
    "    print(fetal_health_data[c].value_counts())"
   ]
  },
  {
   "cell_type": "code",
   "execution_count": 335,
   "metadata": {},
   "outputs": [
    {
     "data": {
      "text/plain": [
       "1.0    1655\n",
       "2.0     295\n",
       "3.0     176\n",
       "Name: fetal_health, dtype: int64"
      ]
     },
     "execution_count": 335,
     "metadata": {},
     "output_type": "execute_result"
    }
   ],
   "source": [
    "fetal_health_data['fetal_health'].value_counts()\n"
   ]
  },
  {
   "cell_type": "code",
   "execution_count": 336,
   "metadata": {},
   "outputs": [
    {
     "data": {
      "text/plain": [
       "'\\nbaseline_value, abnormal_short_term_variability, \\npercentage_of_time_with_abnormal_long_term_variability,\\n histogram_width, histogram_min, histogram_max, \\n histogram_number_of_peaks, histogram_number_of_zeroes, \\n histogram_mode, histogram_mean,\\n histogram_median, histogram_variance, histogram_tendency\\n'"
      ]
     },
     "execution_count": 336,
     "metadata": {},
     "output_type": "execute_result"
    }
   ],
   "source": [
    "discrete_features = ['histogram_tendency',' histogram_number_of_zeroes']\n",
    "continous_features = []\n",
    "\n",
    "\"\"\"\n",
    "baseline_value, abnormal_short_term_variability, \n",
    "percentage_of_time_with_abnormal_long_term_variability,\n",
    " histogram_width, histogram_min, histogram_max, \n",
    " histogram_number_of_peaks, histogram_number_of_zeroes, \n",
    " histogram_mode, histogram_mean,\n",
    " histogram_median, histogram_variance, histogram_tendency\n",
    "\"\"\""
   ]
  },
  {
   "attachments": {},
   "cell_type": "markdown",
   "metadata": {},
   "source": [
    "# <a id='toc3_'></a>[Data Preperation](#toc3_)\n"
   ]
  },
  {
   "attachments": {},
   "cell_type": "markdown",
   "metadata": {},
   "source": [
    "Balancing Data\n",
    "The target feature, fetal health is heavily imbalanced, with the leaning more towards the normal value (1).  The suspect value(2) is twice the pathlogical (3).  This \n",
    "could lead to a model that misclassifies the critical pathological cases. So will balance the data first. "
   ]
  },
  {
   "attachments": {},
   "cell_type": "markdown",
   "metadata": {},
   "source": [
    "# Display distribution of target feature\n",
    "\n"
   ]
  },
  {
   "cell_type": "code",
   "execution_count": 337,
   "metadata": {},
   "outputs": [],
   "source": [
    "def plot_feature_dist(feature):\n",
    "    plt.hist(feature, bins=3, density=True, alpha=0.6, color='b')\n",
    "\n",
    "    mu, std = norm.fit(feature) \n",
    "    # Plot the PDF.\n",
    "    xmin, xmax = plt.xlim()\n",
    "    x = np.linspace(xmin, xmax, 100)\n",
    "    p = norm.pdf(x, mu, std)\n",
    "\n",
    "    plt.plot(x, p, 'k', linewidth=2)\n",
    "    title = \"Distribution of Fetal Health feature\"\n",
    "    plt.title(title)\n",
    "\n",
    "    plt.show()\n"
   ]
  },
  {
   "cell_type": "code",
   "execution_count": 338,
   "metadata": {},
   "outputs": [
    {
     "data": {
      "image/png": "[encoded data removed]",
      "text/plain": [
       "<Figure size 640x480 with 1 Axes>"
      ]
     },
     "metadata": {},
     "output_type": "display_data"
    }
   ],
   "source": [
    "plot_feature_dist(fetal_health_data['fetal_health'])\n"
   ]
  },
  {
   "attachments": {},
   "cell_type": "markdown",
   "metadata": {},
   "source": [
    "#ss"
   ]
  },
  {
   "cell_type": "code",
   "execution_count": 339,
   "metadata": {},
   "outputs": [
    {
     "data": {
      "text/plain": [
       "\"x = fetal_health_data.drop('fetal_health',axis=1)\\ny = fetal_health_data['fetal_health']\\n\\n\\nros = RandomOverSampler(random_state=0)\\nx_resampled, y_resampled = ros.fit_resample(x, y)\\nfrom collections import Counter\\nprint(sorted(Counter(y_resampled).items()))\\n\\n\""
      ]
     },
     "execution_count": 339,
     "metadata": {},
     "output_type": "execute_result"
    }
   ],
   "source": [
    "\n",
    "\"\"\"x = fetal_health_data.drop('fetal_health',axis=1)\n",
    "y = fetal_health_data['fetal_health']\n",
    "\n",
    "\n",
    "ros = RandomOverSampler(random_state=0)\n",
    "x_resampled, y_resampled = ros.fit_resample(x, y)\n",
    "from collections import Counter\n",
    "print(sorted(Counter(y_resampled).items()))\n",
    "\n",
    "\"\"\""
   ]
  },
  {
   "cell_type": "code",
   "execution_count": 340,
   "metadata": {},
   "outputs": [],
   "source": [
    "#plot_feature_dist(y_resampled)"
   ]
  },
  {
   "cell_type": "code",
   "execution_count": 341,
   "metadata": {},
   "outputs": [
    {
     "name": "stdout",
     "output_type": "stream",
     "text": [
      "[(1.0, 1329), (2.0, 1329), (3.0, 1329)]\n"
     ]
    }
   ],
   "source": [
    "x = fetal_health_data.drop('fetal_health',axis=1)\n",
    "y = fetal_health_data['fetal_health']\n",
    "\n",
    "x_train, x_test, y_train, y_test = train_test_split(x, y, test_size = 0.2, random_state=1)\n",
    "\n",
    "sm=SMOTE(random_state=42)\n",
    "xs_train,ys_train=sm.fit_resample(x_train,y_train)\n",
    "print(sorted(Counter(ys_train).items()))"
   ]
  },
  {
   "cell_type": "code",
   "execution_count": 342,
   "metadata": {},
   "outputs": [
    {
     "data": {
      "image/png": "[encoded data removed]",
      "text/plain": [
       "<Figure size 640x480 with 1 Axes>"
      ]
     },
     "metadata": {},
     "output_type": "display_data"
    }
   ],
   "source": [
    "plot_feature_dist(ys_train)"
   ]
  },
  {
   "attachments": {},
   "cell_type": "markdown",
   "metadata": {},
   "source": [
    "Test the features for normality"
   ]
  },
  {
   "cell_type": "code",
   "execution_count": 343,
   "metadata": {},
   "outputs": [
    {
     "name": "stdout",
     "output_type": "stream",
     "text": [
      "baseline value  does not have a normal distribution, pvalue:  2.217218195710302e-07\n",
      "accelerations  does not have a normal distribution, pvalue:  2.1019476964872256e-44\n",
      "fetal_movement  does not have a normal distribution, pvalue:  0.0\n",
      "uterine_contractions  does not have a normal distribution, pvalue:  1.054806032324098e-24\n",
      "light_decelerations  does not have a normal distribution, pvalue:  0.0\n",
      "severe_decelerations  does not have a normal distribution, pvalue:  0.0\n",
      "prolongued_decelerations  does not have a normal distribution, pvalue:  0.0\n",
      "abnormal_short_term_variability  does not have a normal distribution, pvalue:  1.8565731594938506e-21\n",
      "mean_value_of_short_term_variability  does not have a normal distribution, pvalue:  1.0772032407949676e-37\n",
      "percentage_of_time_with_abnormal_long_term_variability  does not have a normal distribution, pvalue:  0.0\n",
      "mean_value_of_long_term_variability  does not have a normal distribution, pvalue:  8.450860460448537e-32\n",
      "histogram_width  does not have a normal distribution, pvalue:  3.587632742950776e-23\n",
      "histogram_min  does not have a normal distribution, pvalue:  1.487080806504355e-28\n",
      "histogram_max  does not have a normal distribution, pvalue:  1.6917216646526254e-17\n",
      "histogram_number_of_peaks  does not have a normal distribution, pvalue:  2.9857542404953893e-31\n",
      "histogram_number_of_zeroes  does not have a normal distribution, pvalue:  0.0\n",
      "histogram_mode  does not have a normal distribution, pvalue:  2.443982951233042e-27\n",
      "histogram_mean  does not have a normal distribution, pvalue:  8.287005569285939e-19\n",
      "histogram_median  does not have a normal distribution, pvalue:  2.0647238530447504e-13\n",
      "histogram_variance  does not have a normal distribution, pvalue:  0.0\n",
      "histogram_tendency  does not have a normal distribution, pvalue:  0.0\n"
     ]
    }
   ],
   "source": [
    "for f in x.columns:\n",
    "    shapiro_val = stats.shapiro(x[f])\n",
    "    if(shapiro_val.pvalue > 0.05):\n",
    "     print(f, \" has a normal distribution, pvalue: \",shapiro_val.pvalue)\n",
    "    else :(shapiro_val.pvalue < 0.05)\n",
    "    print(f, \" does not have a normal distribution, pvalue: \",shapiro_val.pvalue)"
   ]
  },
  {
   "attachments": {},
   "cell_type": "markdown",
   "metadata": {},
   "source": [
    "# <a id='toc4_'></a>[Modeling & Classification Report](#toc4_)"
   ]
  },
  {
   "attachments": {},
   "cell_type": "markdown",
   "metadata": {},
   "source": [
    "Since the predicting the fetal health based on the expert observations is a supervised classification problem, models based on the following alogorthims will be evaluated:\n",
    "\n",
    "A. Logistic Regression\n",
    "B. Random Forest\n",
    "C. Support Vector Machines."
   ]
  },
  {
   "cell_type": "code",
   "execution_count": 344,
   "metadata": {},
   "outputs": [],
   "source": [
    "def model_fit(x, y, x_test, model):\n",
    "    #pipe = make_pipeline(StandardScaler(), model)\n",
    "    pipe = make_pipeline(MinMaxScaler(), model)\n",
    "    pipe.fit(x,y)\n",
    "    return pipe.predict(x_test)\n"
   ]
  },
  {
   "cell_type": "code",
   "execution_count": 345,
   "metadata": {},
   "outputs": [],
   "source": [
    "def evaluate_model(y_predict, y_test, model, model_name):\n",
    "    print(\"Evaluation of \", model_name, \" algorithm\")\n",
    "    print(\"Accuracy is:\", accuracy_score(y_test,y_predict)*100)   \n",
    "    cm = confusion_matrix(y_test, y_predict)\n",
    "    disp = ConfusionMatrixDisplay(confusion_matrix=cm, display_labels=model.classes_) \n",
    "    disp.plot()\n",
    "    plt.show()"
   ]
  },
  {
   "cell_type": "code",
   "execution_count": 346,
   "metadata": {},
   "outputs": [],
   "source": [
    "def performance_report(y_test, y_pred):\n",
    "    from sklearn.metrics import classification_report\n",
    "    cm_report = pd.DataFrame(classification_report(y_test, y_pred, output_dict=True))\n",
    "    print(cm_report)"
   ]
  },
  {
   "cell_type": "code",
   "execution_count": 347,
   "metadata": {},
   "outputs": [
    {
     "name": "stdout",
     "output_type": "stream",
     "text": [
      "Evaluation of  <class 'sklearn.linear_model._logistic.LogisticRegression'>  algorithm\n",
      "Accuracy is: 88.49765258215963\n"
     ]
    },
    {
     "data": {
      "image/png": "[encoded data removed]",
      "text/plain": [
       "<Figure size 640x480 with 2 Axes>"
      ]
     },
     "metadata": {},
     "output_type": "display_data"
    },
    {
     "name": "stdout",
     "output_type": "stream",
     "text": [
      "                  1.0        2.0        3.0  accuracy   macro avg  \\\n",
      "precision    0.920821   0.703125   0.857143  0.884977    0.827030   \n",
      "recall       0.963190   0.661765   0.562500  0.884977    0.729152   \n",
      "f1-score     0.941529   0.681818   0.679245  0.884977    0.767531   \n",
      "support    326.000000  68.000000  32.000000  0.884977  426.000000   \n",
      "\n",
      "           weighted avg  \n",
      "precision      0.881288  \n",
      "recall         0.884977  \n",
      "f1-score       0.880371  \n",
      "support      426.000000  \n",
      "Evaluation of  <class 'sklearn.svm._classes.SVC'>  algorithm\n",
      "Accuracy is: 90.84507042253522\n"
     ]
    },
    {
     "data": {
      "image/png": "[encoded data removed]",
      "text/plain": [
       "<Figure size 640x480 with 2 Axes>"
      ]
     },
     "metadata": {},
     "output_type": "display_data"
    },
    {
     "name": "stdout",
     "output_type": "stream",
     "text": [
      "                  1.0        2.0        3.0  accuracy   macro avg  \\\n",
      "precision    0.934911   0.750000   0.958333  0.908451    0.881082   \n",
      "recall       0.969325   0.705882   0.718750  0.908451    0.797986   \n",
      "f1-score     0.951807   0.727273   0.821429  0.908451    0.833503   \n",
      "support    326.000000  68.000000  32.000000  0.908451  426.000000   \n",
      "\n",
      "           weighted avg  \n",
      "precision      0.907154  \n",
      "recall         0.908451  \n",
      "f1-score       0.906172  \n",
      "support      426.000000  \n",
      "Evaluation of  <class 'sklearn.ensemble._weight_boosting.AdaBoostClassifier'>  algorithm\n",
      "Accuracy is: 87.08920187793427\n"
     ]
    },
    {
     "data": {
      "image/png": "[encoded data removed]",
      "text/plain": [
       "<Figure size 640x480 with 2 Axes>"
      ]
     },
     "metadata": {},
     "output_type": "display_data"
    },
    {
     "name": "stdout",
     "output_type": "stream",
     "text": [
      "                  1.0        2.0        3.0  accuracy   macro avg  \\\n",
      "precision    0.904762   0.650794   0.962963  0.870892    0.839506   \n",
      "recall       0.932515   0.602941   0.812500  0.870892    0.782652   \n",
      "f1-score     0.918429   0.625954   0.881356  0.870892    0.808580   \n",
      "support    326.000000  68.000000  32.000000  0.870892  426.000000   \n",
      "\n",
      "           weighted avg  \n",
      "precision      0.868594  \n",
      "recall         0.870892  \n",
      "f1-score       0.868958  \n",
      "support      426.000000  \n",
      "Evaluation of  <class 'sklearn.ensemble._forest.RandomForestClassifier'>  algorithm\n",
      "Accuracy is: 99.76525821596243\n"
     ]
    },
    {
     "data": {
      "image/png": "[encoded data removed]",
      "text/plain": [
       "<Figure size 640x480 with 2 Axes>"
      ]
     },
     "metadata": {},
     "output_type": "display_data"
    },
    {
     "name": "stdout",
     "output_type": "stream",
     "text": [
      "                  1.0        2.0   3.0  accuracy   macro avg  weighted avg\n",
      "precision    0.996942   1.000000   1.0  0.997653    0.998981      0.997660\n",
      "recall       1.000000   0.985294   1.0  0.997653    0.995098      0.997653\n",
      "f1-score     0.998469   0.992593   1.0  0.997653    0.997020      0.997646\n",
      "support    326.000000  68.000000  32.0  0.997653  426.000000    426.000000\n",
      "Evaluation of  <class 'sklearn.naive_bayes.GaussianNB'>  algorithm\n",
      "Accuracy is: 74.64788732394366\n"
     ]
    },
    {
     "data": {
      "image/png": "[encoded data removed]",
      "text/plain": [
       "<Figure size 640x480 with 2 Axes>"
      ]
     },
     "metadata": {},
     "output_type": "display_data"
    },
    {
     "name": "stdout",
     "output_type": "stream",
     "text": [
      "                  1.0        2.0        3.0  accuracy   macro avg  \\\n",
      "precision    1.000000   0.402439   0.629630  0.746479    0.677356   \n",
      "recall       0.720859   0.970588   0.531250  0.746479    0.740899   \n",
      "f1-score     0.837790   0.568966   0.576271  0.746479    0.661009   \n",
      "support    326.000000  68.000000  32.000000  0.746479  426.000000   \n",
      "\n",
      "           weighted avg  \n",
      "precision      0.876793  \n",
      "recall         0.746479  \n",
      "f1-score       0.775234  \n",
      "support      426.000000  \n"
     ]
    }
   ],
   "source": [
    "logistic_regression = LogisticRegression(penalty='l2', C=1, solver='newton-cg')\n",
    "random_forest = RandomForestClassifier(n_estimators=100)\n",
    "svclassifier = SVC(kernel='rbf')\n",
    "gnb = GaussianNB()\n",
    "adaBoosterDT = AdaBoostClassifier(n_estimators=100)\n",
    "\n",
    "\n",
    "models = {logistic_regression, random_forest,svclassifier, gnb, adaBoosterDT}\n",
    "\n",
    "for model in models:\n",
    "    y_predict = model_fit(x, y, x_test, model)\n",
    "    evaluate_model(y_predict, y_test, model, model.__class__)\n",
    "    performance_report(y_test, y_predict)"
   ]
  },
  {
   "attachments": {},
   "cell_type": "markdown",
   "metadata": {},
   "source": [
    "# <a id='toc5_'></a>[Analysis and Conclusion](#toc5_)"
   ]
  },
  {
   "attachments": {},
   "cell_type": "markdown",
   "metadata": {},
   "source": [
    "The overall accuracy score is important, but the recall weighs more heavily than the precision. \\\n",
    "\"If we optimize for recall, we will decrease the number of False Negatives\".  \\\n",
    "(\"https://towardsdatascience.com/comprehensive-tutorial-on-using-confusion-matrix-in-classification-92be4d70ea18\").  \\\n",
    "This is even more important for the 2 (Suspect), and 3 (Pathalogical) classes.\n",
    "The precision is a measure of the positive prediction, and recall is a measure of the negative prediction.  \\\n",
    "A false positive is not as bad, as that will result in the mother and fetus recieving more attention,  \\\n",
    "and care unlike a false negative Pathlogical (3), where the fetus and mother could be in distress, but do not recieve care.\n",
    "\n",
    "In light of the aforemetioned concerns, then the model developed using the ADABooster classifier would be the best\n",
    "as the 0.81 recall score for the the Pathological class.  The random forest classfier model scores (class 3 recall score of 1,)  seem to indicate that the model have overfit the data, are suspect, therefore would need more test data,\n",
    "or different tweaks to the data. "
   ]
  }
 ],
 "metadata": {
  "kernelspec": {
   "display_name": "Python 3",
   "language": "python",
   "name": "python3"
  },
  "language_info": {
   "codemirror_mode": {
    "name": "ipython",
    "version": 3
   },
   "file_extension": ".py",
   "mimetype": "text/x-python",
   "name": "python",
   "nbconvert_exporter": "python",
   "pygments_lexer": "ipython3",
   "version": "3.9.7"
  },
  "orig_nbformat": 4,
  "vscode": {
   "interpreter": {
    "hash": "1f4d68feedbc674aaf264991a66eb668c043bcd8dd5573d530f1083a23673d69"
   }
  }
 },
 "nbformat": 4,
 "nbformat_minor": 2
}
